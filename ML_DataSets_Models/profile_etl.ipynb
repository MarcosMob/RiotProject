{
 "cells": [
  {
   "cell_type": "markdown",
   "metadata": {},
   "source": [
    "Exporando bibliotecas "
   ]
  },
  {
   "cell_type": "code",
   "execution_count": 2,
   "metadata": {},
   "outputs": [],
   "source": [
    "import requests\n",
    "from dotenv import load_dotenv\n",
    "import os \n",
    "import pandas as pd\n",
    "import pygsheets"
   ]
  },
  {
   "cell_type": "markdown",
   "metadata": {},
   "source": [
    "Carregando a chave da api da Riot"
   ]
  },
  {
   "cell_type": "code",
   "execution_count": 30,
   "metadata": {},
   "outputs": [],
   "source": [
    "\n",
    "load_dotenv()\n",
    "api_key = os.environ.get('riot_api_key')"
   ]
  },
  {
   "cell_type": "markdown",
   "metadata": {},
   "source": [
    "Funcao para pegar o UUID do jogador pelo summonerId ou pelo nome e tag"
   ]
  },
  {
   "cell_type": "code",
   "execution_count": 4,
   "metadata": {},
   "outputs": [],
   "source": [
    "\n",
    "def get_puuid(summonerId=None, gameName=None, tagLine=None, region='americas', api_key=api_key):\n",
    "    \"\"\"\n",
    "    Obtém o PUUID de um jogador usando o summonerId ou gameName/tagLine.\n",
    "    \"\"\"\n",
    "    if api_key is None:\n",
    "        raise ValueError(\"API key não fornecida. Certifique-se de que ela está configurada corretamente.\")\n",
    "    \n",
    "    root_url = f\"https://{region}.api.riotgames.com/\"\n",
    "    \n",
    "    if summonerId:\n",
    "        # Usando summonerId para buscar o PUUID\n",
    "        endpoint = 'lol/summoner/v4/summoners/'\n",
    "        url = f\"{root_url}{endpoint}{summonerId}?api_key={api_key}\"\n",
    "        response = requests.get(url)\n",
    "    elif gameName and tagLine:\n",
    "        # Usando gameName e tagLine para buscar o PUUID\n",
    "        endpoint = f\"riot/account/v1/accounts/by-riot-id/{gameName}/{tagLine}\"\n",
    "        url = f\"{root_url}{endpoint}?api_key={api_key}\"\n",
    "        response = requests.get(url)\n",
    "    else:\n",
    "        raise ValueError(\"Você deve fornecer 'summonerId' ou ('gameName' e 'tagLine').\")\n",
    "    \n",
    "    if response.status_code == 200:\n",
    "        return response.json().get('puuid')\n",
    "    else:\n",
    "        raise Exception(f\"Erro na requisição: {response.status_code}, {response.text}\")\n"
   ]
  },
  {
   "cell_type": "markdown",
   "metadata": {},
   "source": [
    "Funcao para pegar nome e tag do Jogador"
   ]
  },
  {
   "cell_type": "markdown",
   "metadata": {},
   "source": []
  },
  {
   "cell_type": "code",
   "execution_count": 24,
   "metadata": {},
   "outputs": [],
   "source": [
    "def get_rankedgames_sum(puuid = None, api_key=None):\n",
    "    #link = f'https://americas.api.riotgames.com/riot/account/v1/accounts/by-puuid/{puuid}?api_key={api_key}'\n",
    "    \n",
    "    root_url = 'https://americas.api.riotgames.com/'\n",
    "    endpoint = 'lol/league/v4/entries/by-summoner/'\n",
    "    response = requests.get(root_url+endpoint+puuid+'?api_key='+api_key)\n",
    "    \n",
    "    wins = response.json()['wins']\n",
    "    losses = response.json()['losses']\n",
    "    \n",
    "    \n",
    "    return wins + losses"
   ]
  },
  {
   "cell_type": "code",
   "execution_count": null,
   "metadata": {},
   "outputs": [],
   "source": [
    "arthur_summonerid= 'e0tmU0wNu6aHeCkiKOOXhtESq-QyZkcTpssXkOxx-MPC'\n",
    "arthur_lanches_games = get_rankedgames_sum(arthur_summonerid,api_key=api_key)"
   ]
  },
  {
   "cell_type": "code",
   "execution_count": 34,
   "metadata": {},
   "outputs": [
    {
     "data": {
      "text/plain": [
       "{'status': {'message': 'Forbidden', 'status_code': 403}}"
      ]
     },
     "execution_count": 34,
     "metadata": {},
     "output_type": "execute_result"
    }
   ],
   "source": [
    "response = requests.get('https://americas.api.riotgames.com/lol/league/v4/entries/by-summoner/'+ arthur_summonerid+ '?api_key=' + 'RGAPI-7d911ea0-4e28-4a1b-a7d9-3c1d45738259')\n",
    "response.json()"
   ]
  }
 ],
 "metadata": {
  "kernelspec": {
   "display_name": "riot_project_venv",
   "language": "python",
   "name": "python3"
  },
  "language_info": {
   "codemirror_mode": {
    "name": "ipython",
    "version": 3
   },
   "file_extension": ".py",
   "mimetype": "text/x-python",
   "name": "python",
   "nbconvert_exporter": "python",
   "pygments_lexer": "ipython3",
   "version": "3.12.4"
  }
 },
 "nbformat": 4,
 "nbformat_minor": 2
}
